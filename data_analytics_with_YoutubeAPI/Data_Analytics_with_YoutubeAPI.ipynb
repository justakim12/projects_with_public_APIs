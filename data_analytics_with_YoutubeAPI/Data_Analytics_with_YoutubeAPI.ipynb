{
  "nbformat": 4,
  "nbformat_minor": 0,
  "metadata": {
    "colab": {
      "name": "Data_Analytics_with_YoutubeAPI.ipynb",
      "provenance": [],
      "collapsed_sections": [],
      "authorship_tag": "ABX9TyPSayKVtdxruSLJhcPmSd8j"
    },
    "kernelspec": {
      "name": "python3",
      "display_name": "Python 3"
    },
    "language_info": {
      "name": "python"
    }
  },
  "cells": [
    {
      "cell_type": "markdown",
      "metadata": {
        "id": "ArJ63KRNVs6v"
      },
      "source": [
        "\n",
        "# Explanation\n",
        "This project was created to explore the potential of Youtube's API and what projects could be created.\n",
        "\n",
        "### Sample Projects For Reference\n",
        "\n",
        "**Top 39 Youtube API Open Sources** </br>\n",
        "https://awesomeopensource.com/projects/youtube-api\n",
        "\n",
        "**Some examples from above site**\n",
        "\n",
        "- Youtube Scrape: https://awesomeopensource.com/project/HermanFassett/youtube-scrape\n",
        "- Youtube Like Predictor: https://awesomeopensource.com/project/ayush1997/YouTube-Like-predictor\n",
        "- Youtubetospotify: https://awesomeopensource.com/project/nikhilgaba001/YoutubeToSpotify\n",
        "\n",
        "\n",
        "\n",
        "### Sources Used To Make Below Code\n",
        "- https://www.analyticssteps.com/blogs/how-extract-analyze-youtube-data-using-youtube-api \n",
        "  - https://github.com/ripulagrawal98/Analytic_Steps/tree/master/Extract-YouTube-ChannelData "
      ]
    },
    {
      "cell_type": "code",
      "metadata": {
        "id": "qqndh4akJf62"
      },
      "source": [
        "from googleapiclient.discovery import build\n",
        "import pandas as pd"
      ],
      "execution_count": 3,
      "outputs": []
    },
    {
      "cell_type": "code",
      "metadata": {
        "id": "r1Nrl2mBLXk0"
      },
      "source": [
        "youTubeApiKey = \"key\"\n",
        "youtube = build('youtube', 'v3', developerKey=youTubeApiKey)"
      ],
      "execution_count": 4,
      "outputs": []
    },
    {
      "cell_type": "code",
      "metadata": {
        "id": "UDGg5SgPLieG"
      },
      "source": [
        "## in q type in the title of the channel you want to see\n",
        "snippets = youtube.search().list(part=\"snippet\", type=\"channel\", q=\"THE BOB - 더 밥 스튜디오\").execute()"
      ],
      "execution_count": 5,
      "outputs": []
    },
    {
      "cell_type": "code",
      "metadata": {
        "colab": {
          "base_uri": "https://localhost:8080/"
        },
        "id": "qqtoe_rSLto2",
        "outputId": "64a3bf93-26b3-4aa8-ba31-ab8dd52ba513"
      },
      "source": [
        "snippets"
      ],
      "execution_count": 6,
      "outputs": [
        {
          "output_type": "execute_result",
          "data": {
            "text/plain": [
              "{'etag': 'y-1of7JzE4aKhcNgfMqhfs02F6Y',\n",
              " 'items': [{'etag': 'IJEvFmM3XTw10SH8jIkudg2TxIA',\n",
              "   'id': {'channelId': 'UCgiO7Kxib0SZEG0DoeuBkdQ', 'kind': 'youtube#channel'},\n",
              "   'kind': 'youtube#searchResult',\n",
              "   'snippet': {'channelId': 'UCgiO7Kxib0SZEG0DoeuBkdQ',\n",
              "    'channelTitle': 'THE BOB - 더 밥 스튜디오',\n",
              "    'description': 'tvN 푸드 탑티어 피디들이 함께 모여 만드는 푸드 버티컬 스튜디오, THE BOB - 더 밥 스튜디오   최자로드5 : ON THE ROAD 로 돌아온 최자로드! 8월 19일(목) ...',\n",
              "    'liveBroadcastContent': 'none',\n",
              "    'publishTime': '2014-04-10T06:23:15Z',\n",
              "    'publishedAt': '2014-04-10T06:23:15Z',\n",
              "    'thumbnails': {'default': {'url': 'https://yt3.ggpht.com/ytc/AKedOLS9Yu53C5Mlks-a6Q05QPNuvdJpr2k0I4_GhgqDBQ=s88-c-k-c0xffffffff-no-rj-mo'},\n",
              "     'high': {'url': 'https://yt3.ggpht.com/ytc/AKedOLS9Yu53C5Mlks-a6Q05QPNuvdJpr2k0I4_GhgqDBQ=s800-c-k-c0xffffffff-no-rj-mo'},\n",
              "     'medium': {'url': 'https://yt3.ggpht.com/ytc/AKedOLS9Yu53C5Mlks-a6Q05QPNuvdJpr2k0I4_GhgqDBQ=s240-c-k-c0xffffffff-no-rj-mo'}},\n",
              "    'title': 'THE BOB - 더 밥 스튜디오'}},\n",
              "  {'etag': 'MYseYfCdHOE8jxf69W82UQjnTk0',\n",
              "   'id': {'channelId': 'UCtJIDux-Xu7Wye4oJ0zBepA', 'kind': 'youtube#channel'},\n",
              "   'kind': 'youtube#searchResult',\n",
              "   'snippet': {'channelId': 'UCtJIDux-Xu7Wye4oJ0zBepA',\n",
              "    'channelTitle': 'Babs Studio',\n",
              "    'description': '',\n",
              "    'liveBroadcastContent': 'none',\n",
              "    'publishTime': '2015-12-20T11:16:02Z',\n",
              "    'publishedAt': '2015-12-20T11:16:02Z',\n",
              "    'thumbnails': {'default': {'url': 'https://yt3.ggpht.com/ytc/AKedOLSsuwj9RZDVhaVCrlyp87H8UpJ6SX3ehBvPOdetEw=s88-c-k-c0xffffffff-no-rj-mo'},\n",
              "     'high': {'url': 'https://yt3.ggpht.com/ytc/AKedOLSsuwj9RZDVhaVCrlyp87H8UpJ6SX3ehBvPOdetEw=s800-c-k-c0xffffffff-no-rj-mo'},\n",
              "     'medium': {'url': 'https://yt3.ggpht.com/ytc/AKedOLSsuwj9RZDVhaVCrlyp87H8UpJ6SX3ehBvPOdetEw=s240-c-k-c0xffffffff-no-rj-mo'}},\n",
              "    'title': 'Babs Studio'}},\n",
              "  {'etag': '-o4MKcJRt-i4wBXLD2x_LiV1mu8',\n",
              "   'id': {'channelId': 'UCbC5xvYkC9Hwq4-dOQ3SrbQ', 'kind': 'youtube#channel'},\n",
              "   'kind': 'youtube#searchResult',\n",
              "   'snippet': {'channelId': 'UCbC5xvYkC9Hwq4-dOQ3SrbQ',\n",
              "    'channelTitle': '몬주TV',\n",
              "    'description': '몬주마켓 하울,언박싱,Vlog 영상채널이에요 디즈니,픽사 캐릭터,키덜트,피규어,어른이 상품 등등 귀요미들을 소개해드리려해요 여행,출장 다니는 Vlog도 올릴 예정 ...',\n",
              "    'liveBroadcastContent': 'none',\n",
              "    'publishTime': '2018-11-15T11:22:03Z',\n",
              "    'publishedAt': '2018-11-15T11:22:03Z',\n",
              "    'thumbnails': {'default': {'url': 'https://yt3.ggpht.com/ytc/AKedOLSrqO7GjpWjNYfGjEbsIpts0HI_7jlBz0HLvVTM=s88-c-k-c0xffffffff-no-rj-mo'},\n",
              "     'high': {'url': 'https://yt3.ggpht.com/ytc/AKedOLSrqO7GjpWjNYfGjEbsIpts0HI_7jlBz0HLvVTM=s800-c-k-c0xffffffff-no-rj-mo'},\n",
              "     'medium': {'url': 'https://yt3.ggpht.com/ytc/AKedOLSrqO7GjpWjNYfGjEbsIpts0HI_7jlBz0HLvVTM=s240-c-k-c0xffffffff-no-rj-mo'}},\n",
              "    'title': '몬주TV'}},\n",
              "  {'etag': 'n0nji29KRaC_vOJARyJi6adslhk',\n",
              "   'id': {'channelId': 'UC2nmU9yon-9WlLzHN9XwLug', 'kind': 'youtube#channel'},\n",
              "   'kind': 'youtube#searchResult',\n",
              "   'snippet': {'channelId': 'UC2nmU9yon-9WlLzHN9XwLug',\n",
              "    'channelTitle': 'BOBBY - Topic',\n",
              "    'description': 'Kim Ji-won, known by his stage name Bobby is a South Korean rapper, singer-songwriter and member of iKon under YG Entertainment. In 2016, he formed a ...',\n",
              "    'liveBroadcastContent': 'none',\n",
              "    'publishTime': '2014-10-22T21:35:35Z',\n",
              "    'publishedAt': '2014-10-22T21:35:35Z',\n",
              "    'thumbnails': {'default': {'url': 'https://yt3.ggpht.com/v0Z_4wrNlpt0a6cz1qQEW4mMwpFbf0yMZurDpGBzPH_zTxCrtUlUQtYRXt16qEBvbYI3POQmbA=s88-c-k-c0xffffffff-no-rj-mo'},\n",
              "     'high': {'url': 'https://yt3.ggpht.com/v0Z_4wrNlpt0a6cz1qQEW4mMwpFbf0yMZurDpGBzPH_zTxCrtUlUQtYRXt16qEBvbYI3POQmbA=s800-c-k-c0xffffffff-no-rj-mo'},\n",
              "     'medium': {'url': 'https://yt3.ggpht.com/v0Z_4wrNlpt0a6cz1qQEW4mMwpFbf0yMZurDpGBzPH_zTxCrtUlUQtYRXt16qEBvbYI3POQmbA=s240-c-k-c0xffffffff-no-rj-mo'}},\n",
              "    'title': 'BOBBY - Topic'}},\n",
              "  {'etag': '8tPaTQ_W-yC5U7mCeyGR65YPO04',\n",
              "   'id': {'channelId': 'UCKjvkhtmXYU02HexPtSrP0w', 'kind': 'youtube#channel'},\n",
              "   'kind': 'youtube#searchResult',\n",
              "   'snippet': {'channelId': 'UCKjvkhtmXYU02HexPtSrP0w',\n",
              "    'channelTitle': 'Humming Urban Stereo - Topic',\n",
              "    'description': 'Lee Ji-rin, better known as Humming Urban Stereo is a South Korean electropop singer-songwriter. The one-man band debuted in 2004 with the extended play, ...',\n",
              "    'liveBroadcastContent': 'none',\n",
              "    'publishTime': '2013-08-17T06:06:25Z',\n",
              "    'publishedAt': '2013-08-17T06:06:25Z',\n",
              "    'thumbnails': {'default': {'url': 'https://yt3.ggpht.com/pYxz_LGq6TmYGfaJKfzASHS5nDDBqHqx3UrvbIlD-4ufOcRJ0P8Cn4xBgoXvV4idVe8BWwhrTKM=s88-c-k-c0xffffffff-no-rj-mo'},\n",
              "     'high': {'url': 'https://yt3.ggpht.com/pYxz_LGq6TmYGfaJKfzASHS5nDDBqHqx3UrvbIlD-4ufOcRJ0P8Cn4xBgoXvV4idVe8BWwhrTKM=s800-c-k-c0xffffffff-no-rj-mo'},\n",
              "     'medium': {'url': 'https://yt3.ggpht.com/pYxz_LGq6TmYGfaJKfzASHS5nDDBqHqx3UrvbIlD-4ufOcRJ0P8Cn4xBgoXvV4idVe8BWwhrTKM=s240-c-k-c0xffffffff-no-rj-mo'}},\n",
              "    'title': 'Humming Urban Stereo - Topic'}}],\n",
              " 'kind': 'youtube#searchListResponse',\n",
              " 'nextPageToken': 'CAUQAA',\n",
              " 'pageInfo': {'resultsPerPage': 5, 'totalResults': 9},\n",
              " 'regionCode': 'TW'}"
            ]
          },
          "metadata": {
            "tags": []
          },
          "execution_count": 6
        }
      ]
    },
    {
      "cell_type": "code",
      "metadata": {
        "colab": {
          "base_uri": "https://localhost:8080/"
        },
        "id": "njgZ1IH9LvHP",
        "outputId": "c5fd20f2-0705-42a7-f3d0-b4981a2ddd93"
      },
      "source": [
        "for i in snippets['items']:\n",
        "  print(i)"
      ],
      "execution_count": 7,
      "outputs": [
        {
          "output_type": "stream",
          "text": [
            "{'kind': 'youtube#searchResult', 'etag': 'IJEvFmM3XTw10SH8jIkudg2TxIA', 'id': {'kind': 'youtube#channel', 'channelId': 'UCgiO7Kxib0SZEG0DoeuBkdQ'}, 'snippet': {'publishedAt': '2014-04-10T06:23:15Z', 'channelId': 'UCgiO7Kxib0SZEG0DoeuBkdQ', 'title': 'THE BOB - 더 밥 스튜디오', 'description': 'tvN 푸드 탑티어 피디들이 함께 모여 만드는 푸드 버티컬 스튜디오, THE BOB - 더 밥 스튜디오   최자로드5 : ON THE ROAD 로 돌아온 최자로드! 8월 19일(목) ...', 'thumbnails': {'default': {'url': 'https://yt3.ggpht.com/ytc/AKedOLS9Yu53C5Mlks-a6Q05QPNuvdJpr2k0I4_GhgqDBQ=s88-c-k-c0xffffffff-no-rj-mo'}, 'medium': {'url': 'https://yt3.ggpht.com/ytc/AKedOLS9Yu53C5Mlks-a6Q05QPNuvdJpr2k0I4_GhgqDBQ=s240-c-k-c0xffffffff-no-rj-mo'}, 'high': {'url': 'https://yt3.ggpht.com/ytc/AKedOLS9Yu53C5Mlks-a6Q05QPNuvdJpr2k0I4_GhgqDBQ=s800-c-k-c0xffffffff-no-rj-mo'}}, 'channelTitle': 'THE BOB - 더 밥 스튜디오', 'liveBroadcastContent': 'none', 'publishTime': '2014-04-10T06:23:15Z'}}\n",
            "{'kind': 'youtube#searchResult', 'etag': 'MYseYfCdHOE8jxf69W82UQjnTk0', 'id': {'kind': 'youtube#channel', 'channelId': 'UCtJIDux-Xu7Wye4oJ0zBepA'}, 'snippet': {'publishedAt': '2015-12-20T11:16:02Z', 'channelId': 'UCtJIDux-Xu7Wye4oJ0zBepA', 'title': 'Babs Studio', 'description': '', 'thumbnails': {'default': {'url': 'https://yt3.ggpht.com/ytc/AKedOLSsuwj9RZDVhaVCrlyp87H8UpJ6SX3ehBvPOdetEw=s88-c-k-c0xffffffff-no-rj-mo'}, 'medium': {'url': 'https://yt3.ggpht.com/ytc/AKedOLSsuwj9RZDVhaVCrlyp87H8UpJ6SX3ehBvPOdetEw=s240-c-k-c0xffffffff-no-rj-mo'}, 'high': {'url': 'https://yt3.ggpht.com/ytc/AKedOLSsuwj9RZDVhaVCrlyp87H8UpJ6SX3ehBvPOdetEw=s800-c-k-c0xffffffff-no-rj-mo'}}, 'channelTitle': 'Babs Studio', 'liveBroadcastContent': 'none', 'publishTime': '2015-12-20T11:16:02Z'}}\n",
            "{'kind': 'youtube#searchResult', 'etag': '-o4MKcJRt-i4wBXLD2x_LiV1mu8', 'id': {'kind': 'youtube#channel', 'channelId': 'UCbC5xvYkC9Hwq4-dOQ3SrbQ'}, 'snippet': {'publishedAt': '2018-11-15T11:22:03Z', 'channelId': 'UCbC5xvYkC9Hwq4-dOQ3SrbQ', 'title': '몬주TV', 'description': '몬주마켓 하울,언박싱,Vlog 영상채널이에요 디즈니,픽사 캐릭터,키덜트,피규어,어른이 상품 등등 귀요미들을 소개해드리려해요 여행,출장 다니는 Vlog도 올릴 예정 ...', 'thumbnails': {'default': {'url': 'https://yt3.ggpht.com/ytc/AKedOLSrqO7GjpWjNYfGjEbsIpts0HI_7jlBz0HLvVTM=s88-c-k-c0xffffffff-no-rj-mo'}, 'medium': {'url': 'https://yt3.ggpht.com/ytc/AKedOLSrqO7GjpWjNYfGjEbsIpts0HI_7jlBz0HLvVTM=s240-c-k-c0xffffffff-no-rj-mo'}, 'high': {'url': 'https://yt3.ggpht.com/ytc/AKedOLSrqO7GjpWjNYfGjEbsIpts0HI_7jlBz0HLvVTM=s800-c-k-c0xffffffff-no-rj-mo'}}, 'channelTitle': '몬주TV', 'liveBroadcastContent': 'none', 'publishTime': '2018-11-15T11:22:03Z'}}\n",
            "{'kind': 'youtube#searchResult', 'etag': 'n0nji29KRaC_vOJARyJi6adslhk', 'id': {'kind': 'youtube#channel', 'channelId': 'UC2nmU9yon-9WlLzHN9XwLug'}, 'snippet': {'publishedAt': '2014-10-22T21:35:35Z', 'channelId': 'UC2nmU9yon-9WlLzHN9XwLug', 'title': 'BOBBY - Topic', 'description': 'Kim Ji-won, known by his stage name Bobby is a South Korean rapper, singer-songwriter and member of iKon under YG Entertainment. In 2016, he formed a ...', 'thumbnails': {'default': {'url': 'https://yt3.ggpht.com/v0Z_4wrNlpt0a6cz1qQEW4mMwpFbf0yMZurDpGBzPH_zTxCrtUlUQtYRXt16qEBvbYI3POQmbA=s88-c-k-c0xffffffff-no-rj-mo'}, 'medium': {'url': 'https://yt3.ggpht.com/v0Z_4wrNlpt0a6cz1qQEW4mMwpFbf0yMZurDpGBzPH_zTxCrtUlUQtYRXt16qEBvbYI3POQmbA=s240-c-k-c0xffffffff-no-rj-mo'}, 'high': {'url': 'https://yt3.ggpht.com/v0Z_4wrNlpt0a6cz1qQEW4mMwpFbf0yMZurDpGBzPH_zTxCrtUlUQtYRXt16qEBvbYI3POQmbA=s800-c-k-c0xffffffff-no-rj-mo'}}, 'channelTitle': 'BOBBY - Topic', 'liveBroadcastContent': 'none', 'publishTime': '2014-10-22T21:35:35Z'}}\n",
            "{'kind': 'youtube#searchResult', 'etag': '8tPaTQ_W-yC5U7mCeyGR65YPO04', 'id': {'kind': 'youtube#channel', 'channelId': 'UCKjvkhtmXYU02HexPtSrP0w'}, 'snippet': {'publishedAt': '2013-08-17T06:06:25Z', 'channelId': 'UCKjvkhtmXYU02HexPtSrP0w', 'title': 'Humming Urban Stereo - Topic', 'description': 'Lee Ji-rin, better known as Humming Urban Stereo is a South Korean electropop singer-songwriter. The one-man band debuted in 2004 with the extended play, ...', 'thumbnails': {'default': {'url': 'https://yt3.ggpht.com/pYxz_LGq6TmYGfaJKfzASHS5nDDBqHqx3UrvbIlD-4ufOcRJ0P8Cn4xBgoXvV4idVe8BWwhrTKM=s88-c-k-c0xffffffff-no-rj-mo'}, 'medium': {'url': 'https://yt3.ggpht.com/pYxz_LGq6TmYGfaJKfzASHS5nDDBqHqx3UrvbIlD-4ufOcRJ0P8Cn4xBgoXvV4idVe8BWwhrTKM=s240-c-k-c0xffffffff-no-rj-mo'}, 'high': {'url': 'https://yt3.ggpht.com/pYxz_LGq6TmYGfaJKfzASHS5nDDBqHqx3UrvbIlD-4ufOcRJ0P8Cn4xBgoXvV4idVe8BWwhrTKM=s800-c-k-c0xffffffff-no-rj-mo'}}, 'channelTitle': 'Humming Urban Stereo - Topic', 'liveBroadcastContent': 'none', 'publishTime': '2013-08-17T06:06:25Z'}}\n"
          ],
          "name": "stdout"
        }
      ]
    },
    {
      "cell_type": "code",
      "metadata": {
        "colab": {
          "base_uri": "https://localhost:8080/"
        },
        "id": "iz3HO6u0QA0b",
        "outputId": "ce49ae05-87b0-454f-e566-7432055247c6"
      },
      "source": [
        "snippets['items'][0]"
      ],
      "execution_count": 8,
      "outputs": [
        {
          "output_type": "execute_result",
          "data": {
            "text/plain": [
              "{'etag': 'IJEvFmM3XTw10SH8jIkudg2TxIA',\n",
              " 'id': {'channelId': 'UCgiO7Kxib0SZEG0DoeuBkdQ', 'kind': 'youtube#channel'},\n",
              " 'kind': 'youtube#searchResult',\n",
              " 'snippet': {'channelId': 'UCgiO7Kxib0SZEG0DoeuBkdQ',\n",
              "  'channelTitle': 'THE BOB - 더 밥 스튜디오',\n",
              "  'description': 'tvN 푸드 탑티어 피디들이 함께 모여 만드는 푸드 버티컬 스튜디오, THE BOB - 더 밥 스튜디오   최자로드5 : ON THE ROAD 로 돌아온 최자로드! 8월 19일(목) ...',\n",
              "  'liveBroadcastContent': 'none',\n",
              "  'publishTime': '2014-04-10T06:23:15Z',\n",
              "  'publishedAt': '2014-04-10T06:23:15Z',\n",
              "  'thumbnails': {'default': {'url': 'https://yt3.ggpht.com/ytc/AKedOLS9Yu53C5Mlks-a6Q05QPNuvdJpr2k0I4_GhgqDBQ=s88-c-k-c0xffffffff-no-rj-mo'},\n",
              "   'high': {'url': 'https://yt3.ggpht.com/ytc/AKedOLS9Yu53C5Mlks-a6Q05QPNuvdJpr2k0I4_GhgqDBQ=s800-c-k-c0xffffffff-no-rj-mo'},\n",
              "   'medium': {'url': 'https://yt3.ggpht.com/ytc/AKedOLS9Yu53C5Mlks-a6Q05QPNuvdJpr2k0I4_GhgqDBQ=s240-c-k-c0xffffffff-no-rj-mo'}},\n",
              "  'title': 'THE BOB - 더 밥 스튜디오'}}"
            ]
          },
          "metadata": {
            "tags": []
          },
          "execution_count": 8
        }
      ]
    },
    {
      "cell_type": "code",
      "metadata": {
        "colab": {
          "base_uri": "https://localhost:8080/",
          "height": 35
        },
        "id": "-vM4s717L2gd",
        "outputId": "c579ff74-fad8-42cf-f184-ad08e80e8f4a"
      },
      "source": [
        "channelId = snippets['items'][0]['snippet']['channelId']\n",
        "channelId"
      ],
      "execution_count": 9,
      "outputs": [
        {
          "output_type": "execute_result",
          "data": {
            "application/vnd.google.colaboratory.intrinsic+json": {
              "type": "string"
            },
            "text/plain": [
              "'UCgiO7Kxib0SZEG0DoeuBkdQ'"
            ]
          },
          "metadata": {
            "tags": []
          },
          "execution_count": 9
        }
      ]
    },
    {
      "cell_type": "code",
      "metadata": {
        "id": "CsBdMH4Gqgwh"
      },
      "source": [
        "content = youtube.channels().list(id = channelId, part = 'contentDetails').execute()"
      ],
      "execution_count": 10,
      "outputs": []
    },
    {
      "cell_type": "code",
      "metadata": {
        "id": "1z3jY8PIqaJ6"
      },
      "source": [
        "uploadId = content['items'][0]['contentDetails']['relatedPlaylists']['uploads']"
      ],
      "execution_count": 11,
      "outputs": []
    },
    {
      "cell_type": "code",
      "metadata": {
        "id": "KNjuFMJ8Q4eC"
      },
      "source": [
        "## Analyze Playlist\n",
        "allVideos = []\n",
        "nextPage_token = None"
      ],
      "execution_count": 12,
      "outputs": []
    },
    {
      "cell_type": "code",
      "metadata": {
        "colab": {
          "base_uri": "https://localhost:8080/"
        },
        "id": "LjWgvrGpSBeY",
        "outputId": "64ba371c-925b-4392-9829-09bd0743292b"
      },
      "source": [
        "while 1:\n",
        "  res = youtube.playlistItems().list(playlistId = uploadId,maxResults = 50,part = 'snippet',pageToken = nextPage_token).execute()\n",
        "\n",
        "  allVideos += res['items']\n",
        "\n",
        "  nextPage_token = res.get('nextPageToken')\n",
        "\n",
        "  if nextPage_token is  None:\n",
        "    break\n",
        "\n",
        "len(allVideos)"
      ],
      "execution_count": 13,
      "outputs": [
        {
          "output_type": "execute_result",
          "data": {
            "text/plain": [
              "459"
            ]
          },
          "metadata": {
            "tags": []
          },
          "execution_count": 13
        }
      ]
    },
    {
      "cell_type": "code",
      "metadata": {
        "colab": {
          "base_uri": "https://localhost:8080/"
        },
        "id": "vf8LubM5k323",
        "outputId": "6ef3a340-68ce-4281-a4d9-92a41739dc57"
      },
      "source": [
        "allVideos[0]['snippet']"
      ],
      "execution_count": 14,
      "outputs": [
        {
          "output_type": "execute_result",
          "data": {
            "text/plain": [
              "{'channelId': 'UCgiO7Kxib0SZEG0DoeuBkdQ',\n",
              " 'channelTitle': 'THE BOB - 더 밥 스튜디오',\n",
              " 'description': \"빨주노초파남보! 북태평양의 미식 낙원 '하와이'\\n하와이에서 맛보는 치밥의 정석, 숯불구이 통닭&쌀밥!\\n\\n더밥스튜디오 구독하기 👉🏻 https://bit.ly/31cGUg3\\n\\n#스트리트푸드파이터 #백종원\",\n",
              " 'playlistId': 'UUgiO7Kxib0SZEG0DoeuBkdQ',\n",
              " 'position': 0,\n",
              " 'publishedAt': '2021-07-30T07:37:07Z',\n",
              " 'resourceId': {'kind': 'youtube#video', 'videoId': 'vecLk8uk608'},\n",
              " 'thumbnails': {'default': {'height': 90,\n",
              "   'url': 'https://i.ytimg.com/vi/vecLk8uk608/default.jpg',\n",
              "   'width': 120},\n",
              "  'high': {'height': 360,\n",
              "   'url': 'https://i.ytimg.com/vi/vecLk8uk608/hqdefault.jpg',\n",
              "   'width': 480},\n",
              "  'maxres': {'height': 720,\n",
              "   'url': 'https://i.ytimg.com/vi/vecLk8uk608/maxresdefault.jpg',\n",
              "   'width': 1280},\n",
              "  'medium': {'height': 180,\n",
              "   'url': 'https://i.ytimg.com/vi/vecLk8uk608/mqdefault.jpg',\n",
              "   'width': 320},\n",
              "  'standard': {'height': 480,\n",
              "   'url': 'https://i.ytimg.com/vi/vecLk8uk608/sddefault.jpg',\n",
              "   'width': 640}},\n",
              " 'title': '통닭에 뻑뻑살이 없다고? 게다가 벌크 업까지 했어..🍗 통통쫄깃한 숯불치킨에 밥은 못 참지;;｜#스푸파 #더밥스튜디오',\n",
              " 'videoOwnerChannelId': 'UCgiO7Kxib0SZEG0DoeuBkdQ',\n",
              " 'videoOwnerChannelTitle': 'THE BOB - 더 밥 스튜디오'}"
            ]
          },
          "metadata": {
            "tags": []
          },
          "execution_count": 14
        }
      ]
    },
    {
      "cell_type": "code",
      "metadata": {
        "colab": {
          "base_uri": "https://localhost:8080/"
        },
        "id": "f9rdg4kDmLj9",
        "outputId": "1a9ab82f-092a-4cb1-9492-9182516bdca6"
      },
      "source": [
        "allVideos[1]['snippet']"
      ],
      "execution_count": 15,
      "outputs": [
        {
          "output_type": "execute_result",
          "data": {
            "text/plain": [
              "{'channelId': 'UCgiO7Kxib0SZEG0DoeuBkdQ',\n",
              " 'channelTitle': 'THE BOB - 더 밥 스튜디오',\n",
              " 'description': \"젊은 열정으로 빠르게 성장하고 있는 나라, 베트남의 수도 천년고도 '하노이'\\n쫀득한 거위고기가 들어간 거위 비빔국수!\\n\\n더밥스튜디오 구독하기 👉🏻 https://bit.ly/31cGUg3\\n\\n#스트리트푸드파이터 #백종원\",\n",
              " 'playlistId': 'UUgiO7Kxib0SZEG0DoeuBkdQ',\n",
              " 'position': 1,\n",
              " 'publishedAt': '2021-07-30T07:22:06Z',\n",
              " 'resourceId': {'kind': 'youtube#video', 'videoId': 'UArguZpJAnE'},\n",
              " 'thumbnails': {'default': {'height': 90,\n",
              "   'url': 'https://i.ytimg.com/vi/UArguZpJAnE/default.jpg',\n",
              "   'width': 120},\n",
              "  'high': {'height': 360,\n",
              "   'url': 'https://i.ytimg.com/vi/UArguZpJAnE/hqdefault.jpg',\n",
              "   'width': 480},\n",
              "  'maxres': {'height': 720,\n",
              "   'url': 'https://i.ytimg.com/vi/UArguZpJAnE/maxresdefault.jpg',\n",
              "   'width': 1280},\n",
              "  'medium': {'height': 180,\n",
              "   'url': 'https://i.ytimg.com/vi/UArguZpJAnE/mqdefault.jpg',\n",
              "   'width': 320},\n",
              "  'standard': {'height': 480,\n",
              "   'url': 'https://i.ytimg.com/vi/UArguZpJAnE/sddefault.jpg',\n",
              "   'width': 640}},\n",
              " 'title': '닭똥집처럼 쫀~득한 거위 구이🍖 거위 넣어 만든 비빔국수는 또 얼마나 맛있게요..? \"술 생각나면 무조건 맛있는거다\" 오늘의 띵언..｜#스푸파 #더밥스튜디오',\n",
              " 'videoOwnerChannelId': 'UCgiO7Kxib0SZEG0DoeuBkdQ',\n",
              " 'videoOwnerChannelTitle': 'THE BOB - 더 밥 스튜디오'}"
            ]
          },
          "metadata": {
            "tags": []
          },
          "execution_count": 15
        }
      ]
    },
    {
      "cell_type": "code",
      "metadata": {
        "colab": {
          "base_uri": "https://localhost:8080/"
        },
        "id": "93QD-17YmSvu",
        "outputId": "3263469b-18df-4807-8fc5-1d309a12f588"
      },
      "source": [
        "## Retrieve videoIDS of allVideos\n",
        "video_ids = list(map(lambda x:x['snippet']['resourceId']['videoId'], allVideos))\n",
        "print(len(video_ids))"
      ],
      "execution_count": 16,
      "outputs": [
        {
          "output_type": "stream",
          "text": [
            "459\n"
          ],
          "name": "stdout"
        }
      ]
    },
    {
      "cell_type": "code",
      "metadata": {
        "id": "S3YF8VXimeu3"
      },
      "source": [
        "stats = []\n",
        "for i in range(0, len(video_ids), 40):\n",
        "  res = (youtube).videos().list(id=','.join(video_ids[i:i+40]),part='statistics').execute()\n",
        "  stats += res['items']"
      ],
      "execution_count": 17,
      "outputs": []
    },
    {
      "cell_type": "code",
      "metadata": {
        "colab": {
          "base_uri": "https://localhost:8080/"
        },
        "id": "E4GOOKeimhNO",
        "outputId": "ad9d0e25-7838-40b4-bece-fa78d55c8766"
      },
      "source": [
        "stats[0]"
      ],
      "execution_count": 18,
      "outputs": [
        {
          "output_type": "execute_result",
          "data": {
            "text/plain": [
              "{'etag': 'TykBnnHlxKc4kVmrVZ-mRWnaqCo',\n",
              " 'id': 'vecLk8uk608',\n",
              " 'kind': 'youtube#video',\n",
              " 'statistics': {'commentCount': '15',\n",
              "  'dislikeCount': '4',\n",
              "  'favoriteCount': '0',\n",
              "  'likeCount': '85',\n",
              "  'viewCount': '9484'}}"
            ]
          },
          "metadata": {
            "tags": []
          },
          "execution_count": 18
        }
      ]
    },
    {
      "cell_type": "code",
      "metadata": {
        "id": "ZZqWtrQwmiWu"
      },
      "source": [
        "## Organize data into a dataframe\n",
        "title=[ ]\n",
        "liked=[ ]\n",
        "disliked=[ ]\n",
        "views=[ ]\n",
        "url=[ ]\n",
        "comment=[ ]\n",
        "videoid = []\n",
        "publishedDate = []\n",
        "video_description = []"
      ],
      "execution_count": 19,
      "outputs": []
    },
    {
      "cell_type": "code",
      "metadata": {
        "id": "IaD99A27oL1m"
      },
      "source": [
        "\n",
        "for i in range(0,len(allVideos)-1):\n",
        "  # print(i)\n",
        "  i += 1\n",
        "  title.append((allVideos[i])['snippet']['title'])\n",
        "  publishedDate.append((allVideos[i])['snippet']['publishedAt'])\n",
        "  video_description.append((allVideos[i])['snippet']['description'])\n",
        "  liked.append(int((stats[i])['statistics']['likeCount']))\n",
        "  disliked.append(int((stats[i])['statistics']['dislikeCount']))\n",
        "  views.append(int((stats[i])['statistics']['viewCount']))\n",
        "  comment.append(int((stats[i])['statistics']['commentCount']))\n",
        "  videoid.append(allVideos[i]['snippet']['resourceId']['videoId'])"
      ],
      "execution_count": 20,
      "outputs": []
    },
    {
      "cell_type": "code",
      "metadata": {
        "colab": {
          "base_uri": "https://localhost:8080/",
          "height": 359
        },
        "id": "sE3wCh2XoRuP",
        "outputId": "80e6940c-6ec7-469b-e121-e75f1653d514"
      },
      "source": [
        "data={'title':title,'videoIDS':videoid,'video_description':video_description,'publishedDate':publishedDate,'likes':liked,'dislikes':disliked,'views':views,'comment':comment}\n",
        "df=pd.DataFrame(data)\n",
        "df.head(10)"
      ],
      "execution_count": 21,
      "outputs": [
        {
          "output_type": "execute_result",
          "data": {
            "text/html": [
              "<div>\n",
              "<style scoped>\n",
              "    .dataframe tbody tr th:only-of-type {\n",
              "        vertical-align: middle;\n",
              "    }\n",
              "\n",
              "    .dataframe tbody tr th {\n",
              "        vertical-align: top;\n",
              "    }\n",
              "\n",
              "    .dataframe thead th {\n",
              "        text-align: right;\n",
              "    }\n",
              "</style>\n",
              "<table border=\"1\" class=\"dataframe\">\n",
              "  <thead>\n",
              "    <tr style=\"text-align: right;\">\n",
              "      <th></th>\n",
              "      <th>title</th>\n",
              "      <th>videoIDS</th>\n",
              "      <th>video_description</th>\n",
              "      <th>publishedDate</th>\n",
              "      <th>likes</th>\n",
              "      <th>dislikes</th>\n",
              "      <th>views</th>\n",
              "      <th>comment</th>\n",
              "    </tr>\n",
              "  </thead>\n",
              "  <tbody>\n",
              "    <tr>\n",
              "      <th>0</th>\n",
              "      <td>닭똥집처럼 쫀~득한 거위 구이🍖 거위 넣어 만든 비빔국수는 또 얼마나 맛있게요..?...</td>\n",
              "      <td>UArguZpJAnE</td>\n",
              "      <td>젊은 열정으로 빠르게 성장하고 있는 나라, 베트남의 수도 천년고도 '하노이'\\n쫀득...</td>\n",
              "      <td>2021-07-30T07:22:06Z</td>\n",
              "      <td>26</td>\n",
              "      <td>1</td>\n",
              "      <td>3538</td>\n",
              "      <td>3</td>\n",
              "    </tr>\n",
              "    <tr>\n",
              "      <th>1</th>\n",
              "      <td>분식 오맛카세 EP.16 | 킹받는 콜라보? 오맛카세 와서 밥굽남이 '쉐리'만 찾다...</td>\n",
              "      <td>teNJ4zNv0_c</td>\n",
              "      <td>분식 오맛카세 : 어른의 맛\\n\\n[한식대첩]의 주역들이 분식 열풍을 일으키기 위해...</td>\n",
              "      <td>2021-07-30T06:46:46Z</td>\n",
              "      <td>214</td>\n",
              "      <td>9</td>\n",
              "      <td>17360</td>\n",
              "      <td>45</td>\n",
              "    </tr>\n",
              "    <tr>\n",
              "      <th>2</th>\n",
              "      <td>백종원 감탄사 연발하게 만든 뉴욕의 포터하우스 스테이크🥩🍷 뉴욕 맛집 리스트에 추가...</td>\n",
              "      <td>F-9Q_qU7cDY</td>\n",
              "      <td>화려한 불빛 속 잠들지 않는 세계의 수도, 미국 '뉴욕'\\n아! 이 영롱한 스테이크...</td>\n",
              "      <td>2021-07-29T01:59:56Z</td>\n",
              "      <td>57</td>\n",
              "      <td>4</td>\n",
              "      <td>4440</td>\n",
              "      <td>8</td>\n",
              "    </tr>\n",
              "    <tr>\n",
              "      <th>3</th>\n",
              "      <td>당장 비행기 타고 싶어지는 비주얼의 뉴욕 버거&amp;치즈케이크🍔🍰 상상돼서 더 참기 힘든...</td>\n",
              "      <td>lldzVK1aKoU</td>\n",
              "      <td>화려한 불빛 속 잠들지 않는 세계의 수도, 미국 '뉴욕'\\n육즙 팡팡! 뉴욕 햄버거...</td>\n",
              "      <td>2021-07-29T01:47:41Z</td>\n",
              "      <td>56</td>\n",
              "      <td>0</td>\n",
              "      <td>7317</td>\n",
              "      <td>13</td>\n",
              "    </tr>\n",
              "    <tr>\n",
              "      <th>4</th>\n",
              "      <td>베이글 한 입 베어먹는 순간 내가 바로 뉴요커🗽 푸짐해서 한 끼 대용으로도 손색없는...</td>\n",
              "      <td>ozOE2VKYEqQ</td>\n",
              "      <td>화려한 불빛 속 잠들지 않는 세계의 수도, 미국 '뉴욕'\\n크림치즈 &amp; 베이글인데 ...</td>\n",
              "      <td>2021-07-29T01:34:13Z</td>\n",
              "      <td>48</td>\n",
              "      <td>3</td>\n",
              "      <td>6946</td>\n",
              "      <td>16</td>\n",
              "    </tr>\n",
              "    <tr>\n",
              "      <th>5</th>\n",
              "      <td>음식의 인격 EP.04 | 두말하면 입 아픈 K-분식계의 월드클래스 '떡볶이' | ...</td>\n",
              "      <td>tt6R0E7onpY</td>\n",
              "      <td>떡볶이는 왜 먹으면 먹을수록 더 먹고 싶은가\\n\\n[음식의 인격]\\n📌 음식이 말을...</td>\n",
              "      <td>2021-07-27T08:30:02Z</td>\n",
              "      <td>32</td>\n",
              "      <td>1</td>\n",
              "      <td>3357</td>\n",
              "      <td>2</td>\n",
              "    </tr>\n",
              "    <tr>\n",
              "      <th>6</th>\n",
              "      <td>음식의 인격 EP.03 | 그 무엇도 따라올 수 없는 겉바속촉의 원조 '돈가스'! ...</td>\n",
              "      <td>12W2BMTKyQo</td>\n",
              "      <td>바-삭 소리만 들어도 입에 침이 고이는 마성의 음식, 돈가스\\n\\n[음식의 인격]\\...</td>\n",
              "      <td>2021-07-27T08:18:43Z</td>\n",
              "      <td>35</td>\n",
              "      <td>3</td>\n",
              "      <td>4470</td>\n",
              "      <td>5</td>\n",
              "    </tr>\n",
              "    <tr>\n",
              "      <th>7</th>\n",
              "      <td>무려 2천원으로 고기 스튜에 반미까지? 이게 진짜 찐이지ㄷㄷ 빵조차 맛있는 하노이 ...</td>\n",
              "      <td>_-srsun01zY</td>\n",
              "      <td>젊은 열정으로 빠르게 성장하고 있는 나라, 베트남의 수도 천년고도 '하노이'\\n고기...</td>\n",
              "      <td>2021-07-27T19:46:03Z</td>\n",
              "      <td>52</td>\n",
              "      <td>1</td>\n",
              "      <td>6992</td>\n",
              "      <td>13</td>\n",
              "    </tr>\n",
              "    <tr>\n",
              "      <th>8</th>\n",
              "      <td>\"식감이 예술이다\" 백종원이 극찬한 하노이 국민 간식❕ 야들야들한 쌀국수 반죽에 돼...</td>\n",
              "      <td>Nd6keGcUTqY</td>\n",
              "      <td>젊은 열정으로 빠르게 성장하고 있는 나라, 베트남의 수도 천년고도 '하노이'\\n식감...</td>\n",
              "      <td>2021-07-27T12:09:14Z</td>\n",
              "      <td>31</td>\n",
              "      <td>0</td>\n",
              "      <td>3806</td>\n",
              "      <td>3</td>\n",
              "    </tr>\n",
              "    <tr>\n",
              "      <th>9</th>\n",
              "      <td>음식의 인격 EP.01 | 고기 세계관의 최강자 '소고기' 등판! 단연 왕이 될 상...</td>\n",
              "      <td>uQIVzM593GA</td>\n",
              "      <td>소고기의 인격이 직접 알려주는 일두백미(一頭百味) 한우의 매력\\n\\n[음식의 인격]...</td>\n",
              "      <td>2021-07-26T08:46:44Z</td>\n",
              "      <td>69</td>\n",
              "      <td>4</td>\n",
              "      <td>9095</td>\n",
              "      <td>7</td>\n",
              "    </tr>\n",
              "  </tbody>\n",
              "</table>\n",
              "</div>"
            ],
            "text/plain": [
              "                                               title  ... comment\n",
              "0  닭똥집처럼 쫀~득한 거위 구이🍖 거위 넣어 만든 비빔국수는 또 얼마나 맛있게요..?...  ...       3\n",
              "1  분식 오맛카세 EP.16 | 킹받는 콜라보? 오맛카세 와서 밥굽남이 '쉐리'만 찾다...  ...      45\n",
              "2  백종원 감탄사 연발하게 만든 뉴욕의 포터하우스 스테이크🥩🍷 뉴욕 맛집 리스트에 추가...  ...       8\n",
              "3  당장 비행기 타고 싶어지는 비주얼의 뉴욕 버거&치즈케이크🍔🍰 상상돼서 더 참기 힘든...  ...      13\n",
              "4  베이글 한 입 베어먹는 순간 내가 바로 뉴요커🗽 푸짐해서 한 끼 대용으로도 손색없는...  ...      16\n",
              "5  음식의 인격 EP.04 | 두말하면 입 아픈 K-분식계의 월드클래스 '떡볶이' | ...  ...       2\n",
              "6  음식의 인격 EP.03 | 그 무엇도 따라올 수 없는 겉바속촉의 원조 '돈가스'! ...  ...       5\n",
              "7  무려 2천원으로 고기 스튜에 반미까지? 이게 진짜 찐이지ㄷㄷ 빵조차 맛있는 하노이 ...  ...      13\n",
              "8  \"식감이 예술이다\" 백종원이 극찬한 하노이 국민 간식❕ 야들야들한 쌀국수 반죽에 돼...  ...       3\n",
              "9  음식의 인격 EP.01 | 고기 세계관의 최강자 '소고기' 등판! 단연 왕이 될 상...  ...       7\n",
              "\n",
              "[10 rows x 8 columns]"
            ]
          },
          "metadata": {
            "tags": []
          },
          "execution_count": 21
        }
      ]
    },
    {
      "cell_type": "code",
      "metadata": {
        "colab": {
          "base_uri": "https://localhost:8080/",
          "height": 359
        },
        "id": "XVSmGEZSogja",
        "outputId": "452f08ed-9af2-4975-889d-b06de0024a24"
      },
      "source": [
        "## Implement entire code on different channel\n",
        "snippets = youtube.search().list(part=\"snippet\", type=\"channel\", q=\"Marques Brownlee\").execute()\n",
        "channelId = snippets['items'][0]['snippet']['channelId']\n",
        "content = youtube.channels().list(id = channelId, part = 'contentDetails').execute()\n",
        "uploadId = content['items'][0]['contentDetails']['relatedPlaylists']['uploads']\n",
        "allVideos = []\n",
        "nextPage_token = None\n",
        "\n",
        "while 1:\n",
        "  res = youtube.playlistItems().list(playlistId = uploadId,maxResults = 50,part = 'snippet',pageToken = nextPage_token).execute()\n",
        "\n",
        "  allVideos += res['items']\n",
        "\n",
        "  nextPage_token = res.get('nextPageToken')\n",
        "\n",
        "  if nextPage_token is  None:\n",
        "    break\n",
        "\n",
        "video_ids = list(map(lambda x:x['snippet']['resourceId']['videoId'], allVideos))\n",
        "\n",
        "stats = []\n",
        "for i in range(0, len(video_ids), 40):\n",
        "  res = (youtube).videos().list(id=','.join(video_ids[i:i+40]),part='statistics').execute()\n",
        "  stats += res['items']\n",
        "\n",
        "title=[ ]\n",
        "liked=[ ]\n",
        "disliked=[ ]\n",
        "views=[ ]\n",
        "url=[ ]\n",
        "comment=[ ]\n",
        "videoid = []\n",
        "publishedDate = []\n",
        "video_description = []\n",
        "\n",
        "## Error occurs for certain fields when looping through entire playlist\n",
        "for i in range(0,20):\n",
        "  # print(i)\n",
        "  i += 1\n",
        "  title.append((allVideos[i])['snippet']['title'])\n",
        "  publishedDate.append((allVideos[i])['snippet']['publishedAt'])\n",
        "  video_description.append((allVideos[i])['snippet']['description'])\n",
        "  liked.append(int((stats[i])['statistics']['likeCount']))\n",
        "  disliked.append(int((stats[i])['statistics']['dislikeCount']))\n",
        "  views.append(int((stats[i])['statistics']['viewCount']))\n",
        "  comment.append(int((stats[i])['statistics']['commentCount']))\n",
        "  videoid.append(allVideos[i]['snippet']['resourceId']['videoId'])\n",
        "\n",
        "data={'title':title,'videoIDS':videoid,'video_description':video_description,'publishedDate':publishedDate,'likes':liked,'dislikes':disliked,'views':views,'comment':comment}\n",
        "df=pd.DataFrame(data)\n",
        "df.head(10)"
      ],
      "execution_count": 22,
      "outputs": [
        {
          "output_type": "execute_result",
          "data": {
            "text/html": [
              "<div>\n",
              "<style scoped>\n",
              "    .dataframe tbody tr th:only-of-type {\n",
              "        vertical-align: middle;\n",
              "    }\n",
              "\n",
              "    .dataframe tbody tr th {\n",
              "        vertical-align: top;\n",
              "    }\n",
              "\n",
              "    .dataframe thead th {\n",
              "        text-align: right;\n",
              "    }\n",
              "</style>\n",
              "<table border=\"1\" class=\"dataframe\">\n",
              "  <thead>\n",
              "    <tr style=\"text-align: right;\">\n",
              "      <th></th>\n",
              "      <th>title</th>\n",
              "      <th>videoIDS</th>\n",
              "      <th>video_description</th>\n",
              "      <th>publishedDate</th>\n",
              "      <th>likes</th>\n",
              "      <th>dislikes</th>\n",
              "      <th>views</th>\n",
              "      <th>comment</th>\n",
              "    </tr>\n",
              "  </thead>\n",
              "  <tbody>\n",
              "    <tr>\n",
              "      <th>0</th>\n",
              "      <td>Nothing Ear(1) Review: See Through the Hype!</td>\n",
              "      <td>6E9cdgMvQT0</td>\n",
              "      <td>Behind the hype these $99 earbuds are actually...</td>\n",
              "      <td>2021-07-29T05:25:00Z</td>\n",
              "      <td>117688</td>\n",
              "      <td>1680</td>\n",
              "      <td>2285559</td>\n",
              "      <td>6542</td>\n",
              "    </tr>\n",
              "    <tr>\n",
              "      <th>1</th>\n",
              "      <td>The iPhone 13 Models!</td>\n",
              "      <td>TranVlEwQqw</td>\n",
              "      <td>Let's take a look at iPhone 13 dummy models an...</td>\n",
              "      <td>2021-07-26T23:04:01Z</td>\n",
              "      <td>123205</td>\n",
              "      <td>3224</td>\n",
              "      <td>3332876</td>\n",
              "      <td>9270</td>\n",
              "    </tr>\n",
              "    <tr>\n",
              "      <th>2</th>\n",
              "      <td>Tesla Model S PLAID Impressions: Re-Inventing ...</td>\n",
              "      <td>DyKQ7qtTJag</td>\n",
              "      <td>PLAID Model S is stupid fast. And is better bu...</td>\n",
              "      <td>2021-07-22T23:54:54Z</td>\n",
              "      <td>223002</td>\n",
              "      <td>5044</td>\n",
              "      <td>7273442</td>\n",
              "      <td>16645</td>\n",
              "    </tr>\n",
              "    <tr>\n",
              "      <th>3</th>\n",
              "      <td>How Do YouTubers Make Money? (And Other Questi...</td>\n",
              "      <td>n3XrvrBVg2k</td>\n",
              "      <td>Answering the top 10 questions YouTubers get\\n...</td>\n",
              "      <td>2021-07-16T14:54:40Z</td>\n",
              "      <td>124754</td>\n",
              "      <td>1358</td>\n",
              "      <td>2195105</td>\n",
              "      <td>6519</td>\n",
              "    </tr>\n",
              "    <tr>\n",
              "      <th>4</th>\n",
              "      <td>iPadOS 15 Review: Dropped Expectations!</td>\n",
              "      <td>DDpXdljhstg</td>\n",
              "      <td>iPadOS 15 is coming to an iPad near you. Not j...</td>\n",
              "      <td>2021-07-07T21:09:47Z</td>\n",
              "      <td>88999</td>\n",
              "      <td>1334</td>\n",
              "      <td>2228479</td>\n",
              "      <td>5337</td>\n",
              "    </tr>\n",
              "    <tr>\n",
              "      <th>5</th>\n",
              "      <td>iOS 15 Hands-On: Top 5 New Features!</td>\n",
              "      <td>O1sZcX-BBSA</td>\n",
              "      <td>The best iOS 15 Features, coming to an iPhone ...</td>\n",
              "      <td>2021-07-02T12:55:20Z</td>\n",
              "      <td>182681</td>\n",
              "      <td>2811</td>\n",
              "      <td>5162809</td>\n",
              "      <td>8321</td>\n",
              "    </tr>\n",
              "    <tr>\n",
              "      <th>6</th>\n",
              "      <td>Sony Xperia 1 III: The Ultimate Enthusiast Phone!</td>\n",
              "      <td>CghqH21A2Ew</td>\n",
              "      <td>Sony's newest phone is both the most impressiv...</td>\n",
              "      <td>2021-06-30T20:45:56Z</td>\n",
              "      <td>110467</td>\n",
              "      <td>2546</td>\n",
              "      <td>2458252</td>\n",
              "      <td>9895</td>\n",
              "    </tr>\n",
              "    <tr>\n",
              "      <th>7</th>\n",
              "      <td>Why Everything is an Ultrabook!</td>\n",
              "      <td>U3JprndeVYU</td>\n",
              "      <td>The world of laptops is sick: If it's not a ga...</td>\n",
              "      <td>2021-06-30T15:10:51Z</td>\n",
              "      <td>69000</td>\n",
              "      <td>9957</td>\n",
              "      <td>1449475</td>\n",
              "      <td>4809</td>\n",
              "    </tr>\n",
              "    <tr>\n",
              "      <th>8</th>\n",
              "      <td>Windows 11 Reactions: It Runs Android Apps! (K...</td>\n",
              "      <td>VaSstf9VJGQ</td>\n",
              "      <td>Windows 11 is official and it is... very glass...</td>\n",
              "      <td>2021-06-24T20:49:30Z</td>\n",
              "      <td>215418</td>\n",
              "      <td>3093</td>\n",
              "      <td>4561581</td>\n",
              "      <td>16040</td>\n",
              "    </tr>\n",
              "    <tr>\n",
              "      <th>9</th>\n",
              "      <td>Forgot About Beats by Dre?</td>\n",
              "      <td>ILHEYblJ7uM</td>\n",
              "      <td>Beats Studio Buds are their most interesting h...</td>\n",
              "      <td>2021-06-17T21:50:49Z</td>\n",
              "      <td>142098</td>\n",
              "      <td>2302</td>\n",
              "      <td>3541610</td>\n",
              "      <td>7738</td>\n",
              "    </tr>\n",
              "  </tbody>\n",
              "</table>\n",
              "</div>"
            ],
            "text/plain": [
              "                                               title  ... comment\n",
              "0       Nothing Ear(1) Review: See Through the Hype!  ...    6542\n",
              "1                              The iPhone 13 Models!  ...    9270\n",
              "2  Tesla Model S PLAID Impressions: Re-Inventing ...  ...   16645\n",
              "3  How Do YouTubers Make Money? (And Other Questi...  ...    6519\n",
              "4            iPadOS 15 Review: Dropped Expectations!  ...    5337\n",
              "5               iOS 15 Hands-On: Top 5 New Features!  ...    8321\n",
              "6  Sony Xperia 1 III: The Ultimate Enthusiast Phone!  ...    9895\n",
              "7                    Why Everything is an Ultrabook!  ...    4809\n",
              "8  Windows 11 Reactions: It Runs Android Apps! (K...  ...   16040\n",
              "9                         Forgot About Beats by Dre?  ...    7738\n",
              "\n",
              "[10 rows x 8 columns]"
            ]
          },
          "metadata": {
            "tags": []
          },
          "execution_count": 22
        }
      ]
    }
  ]
}